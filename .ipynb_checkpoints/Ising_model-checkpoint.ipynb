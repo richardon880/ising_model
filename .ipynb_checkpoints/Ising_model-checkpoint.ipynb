{
 "cells": [
  {
   "cell_type": "markdown",
   "id": "0f446eca",
   "metadata": {},
   "source": [
    "# Ising Model\n",
    "\n",
    "#### Theory\n",
    "\n",
    "The Ising model plays a central role in the theory of phase transitions. It is a mathematical model of ferromagnetism, and in particular it models the effect of temperature and external field on the magnetization. The Ising model is named after Ernst Ising. He first solved the one-dimensional (1D) Ising model exactly and found that it did not show phase transition. It was later proved that for the 2D and 3D cases, the Ising model does show phase transition. In this experiment you will use Monte Carlo simulations to study second order phase transitions by solving the 2D Ising model without external field.\n",
    "\n",
    "The model consists of a 2D square lattice of spins. Each of these spins can be +1 or -1. In its simplest form (what we will do in this lab), the interaction between spins is only between nearest neighbor spins. The energy of the system (also called Hamiltonian) is give by:\n",
    "$$\n",
    "\\mathcal{E} = -J \\sum_{\\langle i j \\rangle} S_{i} S_{j}.\n",
    "$$\n",
    "where the sum is over all pairs of nearest neighbor $\\langle i j \\rangle$ and $J$ is known as the coupling constant and here we will assume is positive. The system undergoes a second order phase transition at the critical temperature $T_{c}$. For temperatures less than $T_{c}$, the system magnetizes, and the state is called ferromagnetic or the ordered state. This amounts to a globally ordered state due to the presence of local interactions between the spin. For temperatures greater than $T_{c}$, the system is in the disordered or paramagnetic state. In this case, there are no long-range correlations between the spins.\n",
    "\n",
    "The order parameter for this system is the average magnetization. \n",
    "$$\n",
    "m = \\frac{1}{N} \\sum_i S_i\n",
    "$$\n",
    "The order parameter distinguishes the two phases realized by the systems. It is zero in the disordered state, while non-zero in the ordered, ferromagnetic, state. Other important properties of the system are the energy ($\\mathcal{E}$), Specific Heat and the Susceptibility. Notice that these quantities are normally reported as intensive prooerties (that is, the quantity per number of spin).\n",
    "\n",
    "#### Tasks\n",
    "\n",
    "- Write a Monte Carlo code to solve the 2D Ising model (without external field) and using periodic boundary conditions. In reference [1] you will find a detailed explanation of the Ising model and how to use the Montecarlo method to solve it.\n",
    "- Report curves of the Magnetization, Energy, Specific Heat and the Susceptibility. Compare and discuss your results to the analytical solutions.\n",
    "- Study the effect of the system size on the results. Simulate at least 3 systems sizes.\n",
    "- The method section of your report should include an explanation of how your code works. It should also should mention and explain the values that you used for all the parameters of the model. \n",
    "- **Important**: the results section should contain a detailed analysis and description of your graphs and results, and all graphs must be reference in the text. You will get low marks if you only present graphs with no explanation or analysis.\n",
    "- Calculating uncertainty due to the numerical method is out of the scope of this experiment.\n",
    "\n",
    "#### References\n",
    "\n",
    "- [1] Computational Physics, Nicholas J. Giordano, Chapter 7, 1st Edition, 1997, Prentice Hall.\n",
    "\n",
    "#### Resources\n",
    "\n",
    "- [1] https://rajeshrinet.github.io/blog/2014/ising-model/\n",
    "- [2] https://www.physics.purdue.edu/~hisao/book/"
   ]
  },
  {
   "cell_type": "code",
   "execution_count": 3,
   "id": "749a55e0-41b1-4c94-98fa-93ececc3cb1d",
   "metadata": {},
   "outputs": [],
   "source": [
    "# import modules\n",
    "import numpy as np\n",
    "import matplotlib.pyplot as plt\n"
   ]
  },
  {
   "cell_type": "code",
   "execution_count": 51,
   "id": "084ab590-0c6e-47e1-9303-0bc370ab9281",
   "metadata": {
    "tags": []
   },
   "outputs": [],
   "source": [
    "def start_spins(L):\n",
    "    coords = np.meshgrid(range(L), range(L))\n",
    "    spin_list = np.random.rand(L * L) > 0.5\n",
    "    \n",
    "    return coords, spin_list\n",
    "\n"
   ]
  },
  {
   "cell_type": "code",
   "execution_count": 36,
   "id": "a99f9043-43c5-4070-985b-e67c5671522a",
   "metadata": {
    "tags": []
   },
   "outputs": [
    {
     "ename": "SyntaxError",
     "evalue": "invalid syntax (3277082514.py, line 1)",
     "output_type": "error",
     "traceback": [
      "\u001b[0;36m  Cell \u001b[0;32mIn[36], line 1\u001b[0;36m\u001b[0m\n\u001b[0;31m    def simulate_ising\u001b[0m\n\u001b[0m                      ^\u001b[0m\n\u001b[0;31mSyntaxError\u001b[0m\u001b[0;31m:\u001b[0m invalid syntax\n"
     ]
    }
   ],
   "source": [
    "def simulate_ising(T, L, n_step):\n",
    "    "
   ]
  },
  {
   "cell_type": "code",
   "execution_count": 64,
   "id": "ad5fe143-46af-44f0-b28c-bd1b68d5e6fb",
   "metadata": {
    "tags": []
   },
   "outputs": [
    {
     "data": {
      "image/png": "[encoded data removed]",
      "text/plain": [
       "<Figure size 640x480 with 1 Axes>"
      ]
     },
     "metadata": {},
     "output_type": "display_data"
    }
   ],
   "source": [
    "plt.scatter(coords[0], coords[1])\n",
    "plt.show()"
   ]
  },
  {
   "cell_type": "code",
   "execution_count": 63,
   "id": "548b8b1a-565b-4d55-990b-ba4e0561caaa",
   "metadata": {
    "tags": []
   },
   "outputs": [
    {
     "data": {
      "text/plain": [
       "array([ True,  True, False, False, False, False,  True,  True,  True,\n",
       "       False, False, False, False, False,  True,  True,  True,  True,\n",
       "        True,  True, False, False, False,  True,  True,  True, False,\n",
       "        True,  True, False, False,  True,  True, False, False, False,\n",
       "       False,  True, False,  True,  True, False,  True,  True, False,\n",
       "       False,  True, False, False, False,  True, False, False,  True,\n",
       "       False, False,  True, False,  True,  True,  True, False,  True,\n",
       "       False, False, False, False,  True, False, False,  True,  True,\n",
       "       False,  True,  True, False, False,  True, False, False,  True,\n",
       "       False,  True,  True, False, False, False, False,  True,  True,\n",
       "       False, False, False,  True,  True,  True,  True, False, False,\n",
       "       False])"
      ]
     },
     "execution_count": 63,
     "metadata": {},
     "output_type": "execute_result"
    }
   ],
   "source": [
    "spin_list"
   ]
  },
  {
   "cell_type": "code",
   "execution_count": null,
   "id": "f08d1c79-1d4b-4492-a7c9-04fdb0c2c3b3",
   "metadata": {},
   "outputs": [],
   "source": []
  }
 ],
 "metadata": {
  "kernelspec": {
   "display_name": "Python 3 (ipykernel)",
   "language": "python",
   "name": "python3"
  },
  "language_info": {
   "codemirror_mode": {
    "name": "ipython",
    "version": 3
   },
   "file_extension": ".py",
   "mimetype": "text/x-python",
   "name": "python",
   "nbconvert_exporter": "python",
   "pygments_lexer": "ipython3",
   "version": "3.10.13"
  }
 },
 "nbformat": 4,
 "nbformat_minor": 5
}
