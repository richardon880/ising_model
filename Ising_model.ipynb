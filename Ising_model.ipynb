{
 "cells": [
  {
   "cell_type": "markdown",
   "id": "0f446eca",
   "metadata": {},
   "source": [
    "# Ising Model\n",
    "\n",
    "#### Theory\n",
    "\n",
    "The Ising model plays a central role in the theory of phase transitions. It is a mathematical model of ferromagnetism, and in particular it models the effect of temperature and external field on the magnetization. The Ising model is named after Ernst Ising. He first solved the one-dimensional (1D) Ising model exactly and found that it did not show phase transition. It was later proved that for the 2D and 3D cases, the Ising model does show phase transition. In this experiment you will use Monte Carlo simulations to study second order phase transitions by solving the 2D Ising model without external field.\n",
    "\n",
    "The model consists of a 2D square lattice of spins. Each of these spins can be +1 or -1. In its simplest form (what we will do in this lab), the interaction between spins is only between nearest neighbor spins. The energy of the system (also called Hamiltonian) is give by:\n",
    "$$\n",
    "\\mathcal{E} = -J \\sum_{\\langle i j \\rangle} S_{i} S_{j}.\n",
    "$$\n",
    "where the sum is over all pairs of nearest neighbor $\\langle i j \\rangle$ and $J$ is known as the coupling constant and here we will assume is positive. The system undergoes a second order phase transition at the critical temperature $T_{c}$. For temperatures less than $T_{c}$, the system magnetizes, and the state is called ferromagnetic or the ordered state. This amounts to a globally ordered state due to the presence of local interactions between the spin. For temperatures greater than $T_{c}$, the system is in the disordered or paramagnetic state. In this case, there are no long-range correlations between the spins.\n",
    "\n",
    "The order parameter for this system is the average magnetization. \n",
    "$$\n",
    "m = \\frac{1}{N} \\sum_i S_i\n",
    "$$\n",
    "The order parameter distinguishes the two phases realized by the systems. It is zero in the disordered state, while non-zero in the ordered, ferromagnetic, state. Other important properties of the system are the energy ($\\mathcal{E}$), Specific Heat and the Susceptibility. Notice that these quantities are normally reported as intensive prooerties (that is, the quantity per number of spin).\n",
    "\n",
    "#### Tasks\n",
    "\n",
    "- Write a Monte Carlo code to solve the 2D Ising model (without external field) and using periodic boundary conditions. In reference [1] you will find a detailed explanation of the Ising model and how to use the Montecarlo method to solve it.\n",
    "- Report curves of the Magnetization, Energy, Specific Heat and the Susceptibility. Compare and discuss your results to the analytical solutions.\n",
    "- Study the effect of the system size on the results. Simulate at least 3 systems sizes.\n",
    "- The method section of your report should include an explanation of how your code works. It should also should mention and explain the values that you used for all the parameters of the model. \n",
    "- **Important**: the results section should contain a detailed analysis and description of your graphs and results, and all graphs must be reference in the text. You will get low marks if you only present graphs with no explanation or analysis.\n",
    "- Calculating uncertainty due to the numerical method is out of the scope of this experiment.\n",
    "\n",
    "#### References\n",
    "\n",
    "- [1] Computational Physics, Nicholas J. Giordano, Chapter 7, 1st Edition, 1997, Prentice Hall.\n",
    "\n",
    "#### Resources\n",
    "\n",
    "- [1] https://rajeshrinet.github.io/blog/2014/ising-model/\n",
    "- [2] https://www.physics.purdue.edu/~hisao/book/"
   ]
  },
  {
   "cell_type": "code",
   "execution_count": 1,
   "id": "749a55e0-41b1-4c94-98fa-93ececc3cb1d",
   "metadata": {},
   "outputs": [],
   "source": [
    "# import modules\n",
    "import numpy as np\n",
    "import matplotlib.pyplot as plt\n"
   ]
  },
  {
   "cell_type": "code",
   "execution_count": 2,
   "id": "084ab590-0c6e-47e1-9303-0bc370ab9281",
   "metadata": {
    "tags": []
   },
   "outputs": [],
   "source": [
    "def start_spins(L, pos_prop):\n",
    "    coords = np.meshgrid(range(L), range(L))\n",
    "    spin_list = np.random.rand(L * L) \n",
    "    spin_list = np.where(spin_list < pos_prop, 1, -1)\n",
    "    spin_list = spin_list.reshape(L,L)\n",
    "    return coords, spin_list\n"
   ]
  },
  {
   "cell_type": "code",
   "execution_count": 201,
   "id": "5c1d9a02-1297-4fa4-9878-f24fad8925a0",
   "metadata": {},
   "outputs": [],
   "source": [
    "def get_hamiltonian(spin_loc, spin_list):\n",
    "    row, col = spin_list\n",
    "    l = len(spin_list)\n",
    "    j = 1 #coupling constant\n",
    "    #flip spin to calculate energy IF spin was flipped\n",
    "    left_ind = (col - 1) % l\n",
    "    right_ind = (col + 1) % l\n",
    "    up_ind = (row - 1) % l\n",
    "    down_ind = (row + 1) % l\n",
    "    spin = spin_list[row][col] * -1\n",
    "    nn_left = spint_list[row][col-1]\n",
    "    nn_right = spint_list[row][col+1]\n",
    "    nn_up = spint_list[row-1][col]\n",
    "    nn_down = spint_list[row+1][col]"
   ]
  },
  {
   "cell_type": "code",
   "execution_count": 204,
   "id": "a99f9043-43c5-4070-985b-e67c5671522a",
   "metadata": {
    "tags": []
   },
   "outputs": [],
   "source": [
    "def simulate_ising(T, L, n_step, pos_prop=0.5):\n",
    "    \n",
    "    coords, spin_list = start_spins(L, pos_prop)\n",
    "    \n",
    "    for row, vals in enumerate(spin_list):\n",
    "        for col, spin in enumerate(vals):            \n",
    "            pass\n",
    "    return coords, spin_list"
   ]
  },
  {
   "cell_type": "code",
   "execution_count": 209,
   "id": "e2e369b0-3063-4131-b88c-496d4d7a38d6",
   "metadata": {
    "tags": []
   },
   "outputs": [],
   "source": [
    "coords, spin_list = simulate_ising(30, 10, n_step=10)"
   ]
  },
  {
   "cell_type": "code",
   "execution_count": 223,
   "id": "f08d1c79-1d4b-4492-a7c9-04fdb0c2c3b3",
   "metadata": {},
   "outputs": [
    {
     "data": {
      "image/png": "[encoded data removed]",
      "text/plain": [
       "<Figure size 640x480 with 1 Axes>"
      ]
     },
     "metadata": {},
     "output_type": "display_data"
    }
   ],
   "source": [
    "fig, ax = plt.subplots()\n",
    "ax.set_aspect('equal', 'box')\n",
    "\n",
    "\n",
    "plt.pcolormesh(coords[0], coords[1], spin_list, cmap=\"cividis\")\n",
    "\n",
    "\n",
    "# Hide X and Y axes label marks\n",
    "ax.xaxis.set_tick_params(labelbottom=False)\n",
    "ax.yaxis.set_tick_params(labelleft=False)\n",
    "\n",
    "# Hide X and Y axes tick marks\n",
    "ax.set_xticks([])\n",
    "ax.set_yticks([])\n",
    "\n",
    "plt.show()"
   ]
  },
  {
   "cell_type": "code",
   "execution_count": null,
   "id": "8b87ca4c-dd2f-4481-b01e-86ea56ce4d60",
   "metadata": {
    "tags": []
   },
   "outputs": [],
   "source": [
    "letters = [[\"a\", \"b\", \"c\", \"d\", \"e\"],\n",
    "           [\"f\", \"g\", \"h\", \"i\", \"j\"],\n",
    "           [\"k\", \"l\", \"m\", \"n\", \"o\"]]\n",
    "test = 0\n",
    "\n",
    "ans = 4\n",
    "\n",
    "ans = ans % 3\n",
    "\n",
    "print(letters[ans][2])\n",
    "print(letters[ans][2])\n"
   ]
  },
  {
   "cell_type": "code",
   "execution_count": 194,
   "id": "15dca4e8-68af-43cd-98e9-22169a848b4a",
   "metadata": {
    "tags": []
   },
   "outputs": [
    {
     "data": {
      "text/plain": [
       "3"
      ]
     },
     "execution_count": 194,
     "metadata": {},
     "output_type": "execute_result"
    }
   ],
   "source": [
    "len(letters)"
   ]
  },
  {
   "cell_type": "code",
   "execution_count": 140,
   "id": "8ae38685-384a-4925-b288-0aa5a2db3f4c",
   "metadata": {
    "tags": []
   },
   "outputs": [],
   "source": [
    "ans = list()\n",
    "\n",
    "for val in arr:\n",
    "    if val > 4:\n",
    "        num = val % 5\n",
    "    else:\n",
    "        num = val\n",
    "        \n",
    "    ans.append(num)"
   ]
  },
  {
   "cell_type": "code",
   "execution_count": 141,
   "id": "de869c66-a392-4f48-85f4-c05c9d4dec1c",
   "metadata": {
    "tags": []
   },
   "outputs": [
    {
     "data": {
      "text/plain": [
       "[0, 1, 2, 3, 4, 0, 1, 2, 3, 4]"
      ]
     },
     "execution_count": 141,
     "metadata": {},
     "output_type": "execute_result"
    }
   ],
   "source": [
    "ans"
   ]
  },
  {
   "cell_type": "code",
   "execution_count": null,
   "id": "114d5e51-ea37-482c-8913-bd8fe3d84e46",
   "metadata": {},
   "outputs": [],
   "source": []
  }
 ],
 "metadata": {
  "kernelspec": {
   "display_name": "Python 3 (ipykernel)",
   "language": "python",
   "name": "python3"
  },
  "language_info": {
   "codemirror_mode": {
    "name": "ipython",
    "version": 3
   },
   "file_extension": ".py",
   "mimetype": "text/x-python",
   "name": "python",
   "nbconvert_exporter": "python",
   "pygments_lexer": "ipython3",
   "version": "3.10.13"
  }
 },
 "nbformat": 4,
 "nbformat_minor": 5
}
