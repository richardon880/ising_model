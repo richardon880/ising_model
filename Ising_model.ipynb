{
 "cells": [
  {
   "cell_type": "markdown",
   "id": "0f446eca",
   "metadata": {},
   "source": [
    "# Ising Model\n",
    "\n",
    "#### Theory\n",
    "\n",
    "The Ising model plays a central role in the theory of phase transitions. It is a mathematical model of ferromagnetism, and in particular it models the effect of temperature and external field on the magnetization. The Ising model is named after Ernst Ising. He first solved the one-dimensional (1D) Ising model exactly and found that it did not show phase transition. It was later proved that for the 2D and 3D cases, the Ising model does show phase transition. In this experiment you will use Monte Carlo simulations to study second order phase transitions by solving the 2D Ising model without external field.\n",
    "\n",
    "The model consists of a 2D square lattice of spins. Each of these spins can be +1 or -1. In its simplest form (what we will do in this lab), the interaction between spins is only between nearest neighbor spins. The energy of the system (also called Hamiltonian) is give by:\n",
    "$$\n",
    "\\mathcal{E} = -J \\sum_{\\langle i j \\rangle} S_{i} S_{j}.\n",
    "$$\n",
    "where the sum is over all pairs of nearest neighbor $\\langle i j \\rangle$ and $J$ is known as the coupling constant and here we will assume is positive. The system undergoes a second order phase transition at the critical temperature $T_{c}$. For temperatures less than $T_{c}$, the system magnetizes, and the state is called ferromagnetic or the ordered state. This amounts to a globally ordered state due to the presence of local interactions between the spin. For temperatures greater than $T_{c}$, the system is in the disordered or paramagnetic state. In this case, there are no long-range correlations between the spins.\n",
    "\n",
    "The order parameter for this system is the average magnetization. \n",
    "$$\n",
    "m = \\frac{1}{N} \\sum_i S_i\n",
    "$$\n",
    "The order parameter distinguishes the two phases realized by the systems. It is zero in the disordered state, while non-zero in the ordered, ferromagnetic, state. Other important properties of the system are the energy ($\\mathcal{E}$), Specific Heat and the Susceptibility. Notice that these quantities are normally reported as intensive prooerties (that is, the quantity per number of spin).\n",
    "\n",
    "#### Tasks\n",
    "\n",
    "- Write a Monte Carlo code to solve the 2D Ising model (without external field) and using periodic boundary conditions. In reference [1] you will find a detailed explanation of the Ising model and how to use the Montecarlo method to solve it.\n",
    "- Report curves of the Magnetization, Energy, Specific Heat and the Susceptibility. Compare and discuss your results to the analytical solutions.\n",
    "- Study the effect of the system size on the results. Simulate at least 3 systems sizes.\n",
    "- The method section of your report should include an explanation of how your code works. It should also should mention and explain the values that you used for all the parameters of the model. \n",
    "- **Important**: the results section should contain a detailed analysis and description of your graphs and results, and all graphs must be reference in the text. You will get low marks if you only present graphs with no explanation or analysis.\n",
    "- Calculating uncertainty due to the numerical method is out of the scope of this experiment.\n",
    "\n",
    "#### References\n",
    "\n",
    "- [1] Computational Physics, Nicholas J. Giordano, Chapter 7, 1st Edition, 1997, Prentice Hall.\n",
    "\n",
    "#### Resources\n",
    "\n",
    "- [1] https://rajeshrinet.github.io/blog/2014/ising-model/\n",
    "- [2] https://www.physics.purdue.edu/~hisao/book/"
   ]
  },
  {
   "cell_type": "code",
   "execution_count": 1,
   "id": "749a55e0-41b1-4c94-98fa-93ececc3cb1d",
   "metadata": {},
   "outputs": [],
   "source": [
    "# import modules\n",
    "import numpy as np\n",
    "import matplotlib.pyplot as plt\n"
   ]
  },
  {
   "cell_type": "code",
   "execution_count": 2,
   "id": "084ab590-0c6e-47e1-9303-0bc370ab9281",
   "metadata": {
    "tags": []
   },
   "outputs": [],
   "source": [
    "def start_spins(L, pos_prop):\n",
    "    coords = np.meshgrid(range(L), range(L))\n",
    "    spin_list = np.random.rand(L * L) \n",
    "    spin_list = np.where(spin_list < pos_prop, 1, -1)\n",
    "    spin_list = spin_list.reshape(L,L)\n",
    "    return coords, spin_list\n",
    "\n"
   ]
  },
  {
   "cell_type": "code",
   "execution_count": 64,
   "id": "5c1d9a02-1297-4fa4-9878-f24fad8925a0",
   "metadata": {},
   "outputs": [],
   "source": [
    "def get_hamiltonian(spin_list):\n",
    "    l = len(spin_list)\n",
    "    "
   ]
  },
  {
   "cell_type": "code",
   "execution_count": 65,
   "id": "a99f9043-43c5-4070-985b-e67c5671522a",
   "metadata": {
    "tags": []
   },
   "outputs": [],
   "source": [
    "def simulate_ising(T, L, n_step, pos_prop=0.5):\n",
    "    coords, spin_list = start_spins(L, pos_prop)\n",
    "    \n",
    "    for row, vals in enumerate(spin_list):\n",
    "        for col, spin in enumerate(vals):\n",
    "            pass"
   ]
  },
  {
   "cell_type": "code",
   "execution_count": 66,
   "id": "e2e369b0-3063-4131-b88c-496d4d7a38d6",
   "metadata": {
    "tags": []
   },
   "outputs": [],
   "source": [
    "simulate_ising(30, 1000, n_step=10)"
   ]
  },
  {
   "cell_type": "code",
   "execution_count": 67,
   "id": "560fee91-ad56-4a25-8dfc-a0c56473ab1e",
   "metadata": {
    "tags": []
   },
   "outputs": [],
   "source": [
    "coords, spin_list = start_spins(10, 0.5)"
   ]
  },
  {
   "cell_type": "code",
   "execution_count": 68,
   "id": "f08d1c79-1d4b-4492-a7c9-04fdb0c2c3b3",
   "metadata": {},
   "outputs": [
    {
     "data": {
      "image/png": "[encoded data removed]",
      "text/plain": [
       "<Figure size 640x480 with 1 Axes>"
      ]
     },
     "metadata": {},
     "output_type": "display_data"
    }
   ],
   "source": [
    "plt.pcolormesh(coords[0], coords[1], spin_list, cmap=\"viridis\")\n",
    "plt.show()"
   ]
  },
  {
   "cell_type": "code",
   "execution_count": 69,
   "id": "886fec09-f139-44cc-8488-2ff3d67aa4aa",
   "metadata": {
    "tags": []
   },
   "outputs": [
    {
     "data": {
      "text/plain": [
       "10"
      ]
     },
     "execution_count": 69,
     "metadata": {},
     "output_type": "execute_result"
    }
   ],
   "source": [
    "len(spin_list)"
   ]
  },
  {
   "cell_type": "code",
   "execution_count": 70,
   "id": "a3917d6f-65eb-4808-b3fd-03068b4eb175",
   "metadata": {
    "tags": []
   },
   "outputs": [
    {
     "data": {
      "text/plain": [
       "array([[ 1,  1,  1,  1,  1, -1,  1, -1, -1, -1],\n",
       "       [ 1,  1, -1, -1,  1, -1, -1, -1,  1,  1],\n",
       "       [ 1, -1,  1,  1, -1,  1, -1, -1, -1,  1],\n",
       "       [-1, -1, -1, -1,  1,  1,  1, -1,  1, -1],\n",
       "       [-1, -1,  1,  1,  1,  1,  1,  1, -1, -1],\n",
       "       [ 1,  1,  1, -1, -1,  1,  1, -1,  1, -1],\n",
       "       [-1, -1,  1,  1, -1,  1,  1,  1, -1,  1],\n",
       "       [-1, -1, -1, -1, -1, -1, -1,  1,  1, -1],\n",
       "       [ 1, -1,  1,  1,  1, -1,  1, -1, -1, -1],\n",
       "       [ 1,  1, -1, -1,  1, -1, -1, -1, -1, -1]])"
      ]
     },
     "execution_count": 70,
     "metadata": {},
     "output_type": "execute_result"
    }
   ],
   "source": [
    "spin_list"
   ]
  },
  {
   "cell_type": "code",
   "execution_count": 71,
   "id": "9f993235-4b78-4e9c-ba4a-d0266a77d4a1",
   "metadata": {
    "tags": []
   },
   "outputs": [
    {
     "data": {
      "text/plain": [
       "array([ 1,  1,  1,  1,  1, -1,  1, -1, -1, -1])"
      ]
     },
     "execution_count": 71,
     "metadata": {},
     "output_type": "execute_result"
    }
   ],
   "source": [
    "spin_list[0]"
   ]
  },
  {
   "cell_type": "code",
   "execution_count": 75,
   "id": "ab738b57-0936-498c-97e7-a197d0bdf2ec",
   "metadata": {
    "tags": []
   },
   "outputs": [
    {
     "data": {
      "text/plain": [
       "array([ 1,  1, -1, -1,  1, -1, -1, -1, -1, -1])"
      ]
     },
     "execution_count": 75,
     "metadata": {},
     "output_type": "execute_result"
    }
   ],
   "source": [
    "spin_list[-1]"
   ]
  },
  {
   "cell_type": "code",
   "execution_count": null,
   "id": "5125085a-7a77-4cdf-8ae2-5a8d616cf84c",
   "metadata": {
    "tags": []
   },
   "outputs": [],
   "source": []
  },
  {
   "cell_type": "code",
   "execution_count": null,
   "id": "8b87ca4c-dd2f-4481-b01e-86ea56ce4d60",
   "metadata": {},
   "outputs": [],
   "source": []
  }
 ],
 "metadata": {
  "kernelspec": {
   "display_name": "Python 3 (ipykernel)",
   "language": "python",
   "name": "python3"
  },
  "language_info": {
   "codemirror_mode": {
    "name": "ipython",
    "version": 3
   },
   "file_extension": ".py",
   "mimetype": "text/x-python",
   "name": "python",
   "nbconvert_exporter": "python",
   "pygments_lexer": "ipython3",
   "version": "3.10.13"
  }
 },
 "nbformat": 4,
 "nbformat_minor": 5
}
